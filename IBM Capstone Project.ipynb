{
 "cells": [
  {
   "cell_type": "markdown",
   "metadata": {},
   "source": [
    "# IBM Capstone Project"
   ]
  },
  {
   "cell_type": "markdown",
   "metadata": {},
   "source": [
    "## Introduction / Business Problem"
   ]
  },
  {
   "cell_type": "markdown",
   "metadata": {},
   "source": [
    "<p>In this project, we are going to found a automatic way to see the cluster of the ethnic group in a area.  In many times, only the local people know which area in the city is for Certain group.  Fox example, there are Chinese Town, Korea Town, or Japanese town in every city.  However, this information is not shown on the map.  If I were the new real estate agent and looking for place for my client, I would want to know which area is best suite for my client.  Most new homeowner would prefer to live nearby their cultural group.  If a newcomer of the city try to settle, it would take trial and error to found out actually the first place that he or she choose may not be the best ideal place that he would like to live in.  This project is to explore a machine learning way to show the hidden information of ethnic gathering group.</p>"
   ]
  },
  {
   "cell_type": "markdown",
   "metadata": {},
   "source": [
    "## Methodology and Data"
   ]
  },
  {
   "cell_type": "markdown",
   "metadata": {},
   "source": [
    "<p>I am going to use Foursquare api to gather the venue type in the area.  Then I will use k-mean to see if cluster exist for each of the following group:</p>\n",
    "\n",
    "- Italian\n",
    "- Chinese\n",
    "- Korean\n",
    "- Japanese\n",
    "- Indian\n",
    "- Latino\n",
    "\n",
    "<p>The list may not be inclusive that not all the ethnic group is listed.  Then I will use Folium map and heatmap.  I will use Los Angeles to verify my data.  Then I will run Bay area, Kansas City, Atlanta, and Washington DC to explore the ehnic group distribution</p>"
   ]
  },
  {
   "cell_type": "code",
   "execution_count": 1,
   "metadata": {},
   "outputs": [],
   "source": [
    "#import library\n",
    "import pandas as pd"
   ]
  },
  {
   "cell_type": "code",
   "execution_count": 2,
   "metadata": {},
   "outputs": [],
   "source": [
    "#get the list of Los Angeles County\n",
    "url = 'https://en.wikipedia.org/wiki/List_of_cities_in_Los_Angeles_County,_California'\n",
    "df_list = pd.read_html(url)"
   ]
  },
  {
   "cell_type": "code",
   "execution_count": 4,
   "metadata": {},
   "outputs": [],
   "source": [
    "LA_City = df_list[0].City"
   ]
  },
  {
   "cell_type": "code",
   "execution_count": 5,
   "metadata": {
    "scrolled": false
   },
   "outputs": [],
   "source": [
    "#extract all the location information of California Cities\n",
    "#install the geocoder\n",
    "from geopy.geocoders import Nominatim"
   ]
  },
  {
   "cell_type": "code",
   "execution_count": 6,
   "metadata": {
    "scrolled": true
   },
   "outputs": [
    {
     "name": "stdout",
     "output_type": "stream",
     "text": [
      "The geograpical coordinate of Los Angeles are 34.0536909, -118.2427666.\n"
     ]
    }
   ],
   "source": [
    "address = 'Los Angeles, CA'\n",
    "geolocator = Nominatim(user_agent=\"ca_explorer\")\n",
    "location = geolocator.geocode(address)\n",
    "latitude = location.latitude\n",
    "longitude = location.longitude\n",
    "print('The geograpical coordinate of Los Angeles are {}, {}.'.format(latitude, longitude))"
   ]
  },
  {
   "cell_type": "code",
   "execution_count": 7,
   "metadata": {},
   "outputs": [],
   "source": [
    "#Append LA City with the \", CA\"\n",
    "LA_City = LA_City + ', CA'"
   ]
  },
  {
   "cell_type": "code",
   "execution_count": 14,
   "metadata": {},
   "outputs": [],
   "source": [
    "#Create new dataframe that sore the longitude and latitude of Los Angeles Cities\n",
    "city_list=[]\n",
    "for cities in LA_City:\n",
    "    location = geolocator.geocode(cities)\n",
    "    latitude = location.latitude\n",
    "    longitude = location.longitude\n",
    "    city_list.append((cities, latitude, longitude))"
   ]
  },
  {
   "cell_type": "code",
   "execution_count": 15,
   "metadata": {
    "scrolled": true
   },
   "outputs": [
    {
     "data": {
      "text/plain": [
       "[('Agoura Hills, CA', 34.14791, -118.7657042),\n",
       " ('Alhambra, CA', 52.3429334, -114.6712396),\n",
       " ('Arcadia, CA', 43.8253822, -66.0609036),\n",
       " ('Artesia, CA', 50.8380696, -113.96947271477748),\n",
       " ('Avalon, CA', 52.0948774, -106.6560692704038),\n",
       " ('Azusa, CA', 34.1338751, -117.9056046),\n",
       " ('Baldwin Park, CA', 43.5272291, -79.87667193276754),\n",
       " ('Bell, CA', 45.326447599999995, -75.8095645993038),\n",
       " ('Bell Gardens, CA', 33.9694561, -118.1503953),\n",
       " ('Bellflower, CA', 33.8825705, -118.1167679),\n",
       " ('Beverly Hills, CA', 53.559348099999994, -113.0314111056661),\n",
       " ('Bradbury, CA', 34.1469511, -117.9708982),\n",
       " ('Burbank, CA', 34.1816482, -118.3258554),\n",
       " ('Calabasas, CA', 34.1446643, -118.6440973),\n",
       " ('Carson, CA', 45.4191995, -75.68979657728495),\n",
       " ('Cerritos, CA', 33.8644291, -118.0539323),\n",
       " ('Claremont, CA', 45.6782409, -63.9761354),\n",
       " ('Commerce, CA', 45.3633593, -73.73249956842082),\n",
       " ('Compton, CA', 45.243228, -71.827927),\n",
       " ('Covina, CA', 34.1024, -117.85486499999999),\n",
       " ('Cudahy, CA', 33.9620584, -118.1835395),\n",
       " ('Culver City, CA', 34.0211224, -118.3964665),\n",
       " ('Diamond Bar, CA', 34.0286226, -117.8103367),\n",
       " ('Downey, CA', 49.315081, -122.732079),\n",
       " ('Duarte, CA', 34.1394513, -117.9772873),\n",
       " ('El Monte, CA', 40.7518328, -8.6477345),\n",
       " ('El Segundo, CA', 33.917028, -118.4156337),\n",
       " ('Gardena, CA', 33.8963593, -118.3053037),\n",
       " ('Glendale, CA', 45.8161189, -61.314011),\n",
       " ('Glendora, CA', 34.1361187, -117.865339),\n",
       " ('Hawaiian Gardens, CA', 33.8284787, -118.0743137),\n",
       " ('Hawthorne, CA', 45.9683338, -61.4901355),\n",
       " ('Hermosa Beach, CA', 33.86428, -118.39591),\n",
       " ('Hidden Hills, CA', 34.164091, -118.657837),\n",
       " ('Huntington Park, CA', 43.2206894, -79.82935614795392),\n",
       " ('Industry, CA', 34.0197335, -117.9586754),\n",
       " ('Inglewood, CA', 44.8532219, -65.30215845197642),\n",
       " ('Irwindale, CA', 34.1069927, -117.9342148),\n",
       " ('La Cañada Flintridge, CA', 34.1998302, -118.2005236),\n",
       " ('La Habra Heights, CA', 33.9604546, -117.9504255),\n",
       " ('La Mirada, CA', 33.9060971, -118.0107092),\n",
       " ('La Puente, CA', 34.01979, -117.9503677),\n",
       " ('La Verne, CA', 34.1008426, -117.7678355),\n",
       " ('Lakewood, CA', 53.457715, -113.4572606),\n",
       " ('Lancaster, CA', 45.1412662, -74.4999495),\n",
       " ('Lawndale, CA', 33.8885217, -118.3531991),\n",
       " ('Lomita, CA', 33.8036545, -118.3195014),\n",
       " ('Long Beach, CA', 47.9960267, -53.8155345),\n",
       " ('Los Angeles, CA', 34.0536909, -118.2427666),\n",
       " ('Lynwood, CA', 33.924831, -118.2024154),\n",
       " ('Malibu, CA', 45.9482191, -75.8745834),\n",
       " ('Manhattan Beach, CA', 33.8915985, -118.3951241),\n",
       " ('Maywood, CA', 43.2282384, -79.9755846),\n",
       " ('Monrovia, CA', 34.1483499, -118.0014517),\n",
       " ('Montebello, CA', 45.6512171, -74.942673),\n",
       " ('Monterey Park, CA', 51.0814733, -113.9284589),\n",
       " ('Norwalk, CA', 33.9092802, -118.0849169),\n",
       " ('Palmdale, CA', 34.5793131, -118.1171108),\n",
       " ('Palos Verdes Estates, CA', 33.7872386, -118.401813),\n",
       " ('Paramount, CA', 43.6477079, -79.3956532),\n",
       " ('Pasadena, CA', 49.0139234, -57.5986531),\n",
       " ('Pico Rivera, CA', 33.9830688, -118.096735),\n",
       " ('Pomona, CA', 34.0553813, -117.7517496),\n",
       " ('Rancho Palos Verdes, CA', 33.7483311, -118.3707683),\n",
       " ('Redondo Beach, CA', 33.8455911, -118.3886766),\n",
       " ('Rolling Hills, CA', 50.2252023, -111.7729252),\n",
       " ('Rolling Hills Estates, CA', 33.7877943, -118.3581284),\n",
       " ('Rosemead, CA', 34.0676169, -118.0879763),\n",
       " ('San Dimas, CA', 34.1066756, -117.8067257),\n",
       " ('San Fernando, CA', 34.28497, -118.437652),\n",
       " ('San Gabriel, CA', 34.0990733, -118.1085682),\n",
       " ('San Marino, CA', 43.7690538, -79.3860158),\n",
       " ('Santa Clarita, CA', 34.3916641, -118.542586),\n",
       " ('Santa Fe Springs, CA', 33.9480787, -118.0691499),\n",
       " ('Santa Monica, CA', 46.724362, -75.559685),\n",
       " ('Sierra Madre, CA', 34.1616729, -118.0528456),\n",
       " ('Signal Hill, CA', 51.023313, -114.1762331),\n",
       " ('South El Monte, CA', 34.0519548, -118.0467339),\n",
       " ('South Gate, CA', 44.09883325, -80.59655909894406),\n",
       " ('South Pasadena, CA', 34.1133062, -118.1478291),\n",
       " ('Temple City, CA', 34.1082994, -118.0577568),\n",
       " ('Torrance, CA', 44.9955309, -79.5692407),\n",
       " ('Vernon, CA', 50.268277, -119.267578),\n",
       " ('Walnut, CA', 42.8797697, -81.8925799),\n",
       " ('West Covina, CA', 34.0686208, -117.9389526),\n",
       " ('West Hollywood, CA', 34.0923014, -118.3692894),\n",
       " ('Westlake Village, CA', 55.2245338, -118.8126004),\n",
       " ('Whittier, CA', 33.9708782, -118.0308396)]"
      ]
     },
     "execution_count": 15,
     "metadata": {},
     "output_type": "execute_result"
    }
   ],
   "source": [
    "city_list"
   ]
  },
  {
   "cell_type": "code",
   "execution_count": 16,
   "metadata": {},
   "outputs": [],
   "source": [
    "#convert city_list to dataframe\n",
    "city_list_df = pd.DataFrame(city_list, columns = ['city', 'latitude', 'longitude'])"
   ]
  },
  {
   "cell_type": "code",
   "execution_count": 69,
   "metadata": {},
   "outputs": [
    {
     "data": {
      "text/html": [
       "<div>\n",
       "<style scoped>\n",
       "    .dataframe tbody tr th:only-of-type {\n",
       "        vertical-align: middle;\n",
       "    }\n",
       "\n",
       "    .dataframe tbody tr th {\n",
       "        vertical-align: top;\n",
       "    }\n",
       "\n",
       "    .dataframe thead th {\n",
       "        text-align: right;\n",
       "    }\n",
       "</style>\n",
       "<table border=\"1\" class=\"dataframe\">\n",
       "  <thead>\n",
       "    <tr style=\"text-align: right;\">\n",
       "      <th></th>\n",
       "      <th>city</th>\n",
       "      <th>latitude</th>\n",
       "      <th>longitude</th>\n",
       "    </tr>\n",
       "  </thead>\n",
       "  <tbody>\n",
       "    <tr>\n",
       "      <th>48</th>\n",
       "      <td>Los Angeles, CA</td>\n",
       "      <td>34.053691</td>\n",
       "      <td>-118.242767</td>\n",
       "    </tr>\n",
       "  </tbody>\n",
       "</table>\n",
       "</div>"
      ],
      "text/plain": [
       "               city   latitude   longitude\n",
       "48  Los Angeles, CA  34.053691 -118.242767"
      ]
     },
     "execution_count": 69,
     "metadata": {},
     "output_type": "execute_result"
    }
   ],
   "source": [
    "city_list_df[city_list_df.city == 'Los Angeles, CA']"
   ]
  },
  {
   "cell_type": "code",
   "execution_count": 96,
   "metadata": {},
   "outputs": [],
   "source": [
    "#insert Four Square Credential\n",
    "CLIENT_ID = 'BB2VNIG1RCAF5NPJ3OFDRF0EUYDL4T4MT3LX3RLCM3OBDIAC' # your Foursquare ID\n",
    "CLIENT_SECRET = 'SGNAUESM4B4A4Q124Z1RMRB1FZIGTSHM0KE42V1QMXRSFARU' # your Foursquare Secret\n",
    "VERSION = '20180605' # Foursquare API version\n",
    "LIMIT = 100 # A default Foursquare API limit value"
   ]
  },
  {
   "cell_type": "code",
   "execution_count": 71,
   "metadata": {},
   "outputs": [],
   "source": [
    "#insert 4square api categories Id\n",
    "categoriesarray = []\n",
    "categoriesarray.append(['Chinese', '4bf58dd8d48988d145941735'])\n",
    "categoriesarray.append(['Japanese', '4bf58dd8d48988d111941735'])\n",
    "categoriesarray.append(['Korean', '4bf58dd8d48988d113941735'])\n",
    "categoriesarray.append(['Italian', '4bf58dd8d48988d110941735'])\n",
    "categoriesarray.append(['Indian', '4bf58dd8d48988d10f941735'])\n",
    "categoriesarray.append(['Latino', '4bf58dd8d48988d1c1941735'])"
   ]
  },
  {
   "cell_type": "code",
   "execution_count": 72,
   "metadata": {},
   "outputs": [],
   "source": [
    "#convert categoriesarray to dataframe\n",
    "categoriesdf = pd.DataFrame(data=categoriesarray, index=None, columns=[\"ethnic\", \"categoriesid\"])"
   ]
  },
  {
   "cell_type": "code",
   "execution_count": 75,
   "metadata": {},
   "outputs": [
    {
     "data": {
      "text/html": [
       "<div>\n",
       "<style scoped>\n",
       "    .dataframe tbody tr th:only-of-type {\n",
       "        vertical-align: middle;\n",
       "    }\n",
       "\n",
       "    .dataframe tbody tr th {\n",
       "        vertical-align: top;\n",
       "    }\n",
       "\n",
       "    .dataframe thead th {\n",
       "        text-align: right;\n",
       "    }\n",
       "</style>\n",
       "<table border=\"1\" class=\"dataframe\">\n",
       "  <thead>\n",
       "    <tr style=\"text-align: right;\">\n",
       "      <th></th>\n",
       "      <th>ethnic</th>\n",
       "      <th>categoriesid</th>\n",
       "    </tr>\n",
       "  </thead>\n",
       "  <tbody>\n",
       "    <tr>\n",
       "      <th>0</th>\n",
       "      <td>Chinese</td>\n",
       "      <td>4bf58dd8d48988d145941735</td>\n",
       "    </tr>\n",
       "    <tr>\n",
       "      <th>1</th>\n",
       "      <td>Japanese</td>\n",
       "      <td>4bf58dd8d48988d111941735</td>\n",
       "    </tr>\n",
       "    <tr>\n",
       "      <th>2</th>\n",
       "      <td>Korean</td>\n",
       "      <td>4bf58dd8d48988d113941735</td>\n",
       "    </tr>\n",
       "    <tr>\n",
       "      <th>3</th>\n",
       "      <td>Italian</td>\n",
       "      <td>4bf58dd8d48988d110941735</td>\n",
       "    </tr>\n",
       "    <tr>\n",
       "      <th>4</th>\n",
       "      <td>Indian</td>\n",
       "      <td>4bf58dd8d48988d10f941735</td>\n",
       "    </tr>\n",
       "    <tr>\n",
       "      <th>5</th>\n",
       "      <td>Latino</td>\n",
       "      <td>4bf58dd8d48988d1c1941735</td>\n",
       "    </tr>\n",
       "  </tbody>\n",
       "</table>\n",
       "</div>"
      ],
      "text/plain": [
       "     ethnic              categoriesid\n",
       "0   Chinese  4bf58dd8d48988d145941735\n",
       "1  Japanese  4bf58dd8d48988d111941735\n",
       "2    Korean  4bf58dd8d48988d113941735\n",
       "3   Italian  4bf58dd8d48988d110941735\n",
       "4    Indian  4bf58dd8d48988d10f941735\n",
       "5    Latino  4bf58dd8d48988d1c1941735"
      ]
     },
     "execution_count": 75,
     "metadata": {},
     "output_type": "execute_result"
    }
   ],
   "source": [
    "categoriesdf"
   ]
  },
  {
   "cell_type": "code",
   "execution_count": 12,
   "metadata": {},
   "outputs": [],
   "source": [
    "#import request library\n",
    "import requests"
   ]
  },
  {
   "cell_type": "code",
   "execution_count": 99,
   "metadata": {},
   "outputs": [],
   "source": [
    "def getNearbyVenues(ethnics, categoriesid, cities, latitudes, longitudes, radius=500):\n",
    "    \n",
    "    venues_list=[]\n",
    "    for cities, lat, lng in zip(cities, latitudes, longitudes):\n",
    "        print(cities + ' : ' + ethnics)\n",
    "        \n",
    "        for ethnic, categoriesid in categoriesarray:\n",
    "            \n",
    "            # create the API request URL\n",
    "            url = 'https://api.foursquare.com/v2/venues/search?client_id={}&client_secret={}&v={}&ll={},{}&limit={}&categoryId={}'.format(\n",
    "                CLIENT_ID, \n",
    "                CLIENT_SECRET, \n",
    "                VERSION, \n",
    "                lat, \n",
    "                lng,  \n",
    "                LIMIT,\n",
    "                categoriesid)\n",
    "\n",
    "            # make the GET request\n",
    "            results = requests.get(url).json()[\"response\"]['venues']\n",
    "\n",
    "            # return only relevant information for each nearby venue\n",
    "            venues_list.append([(\n",
    "                cities, \n",
    "                lat, \n",
    "                lng, \n",
    "                v['name'], \n",
    "                v['location']['lat'], \n",
    "                v['location']['lng'],  \n",
    "                ethnics) for v in results])\n",
    "\n",
    "        nearby_venues = pd.DataFrame([item for venue_list in venues_list for item in venue_list])\n",
    "        nearby_venues.columns = ['Neighborhood', \n",
    "                      'Neighborhood Latitude', \n",
    "                      'Neighborhood Longitude', \n",
    "                      'Venue', \n",
    "                      'Venue Latitude', \n",
    "                      'Venue Longitude', \n",
    "                      'Venue Category']\n",
    "    \n",
    "    return(nearby_venues)"
   ]
  },
  {
   "cell_type": "code",
   "execution_count": 110,
   "metadata": {},
   "outputs": [],
   "source": [
    "def getVeneuesbyCategories(categoriesinfo, citydataarray):\n",
    "    tempdf = pd.DataFrame()\n",
    "    for ethnic, categoryid in zip(categoriesinfo.ethnic, categoriesinfo.categoriesid):\n",
    "        print(ethnic)\n",
    "        tempdf2 = getNearbyVenues(ethnic, categoryid, citydataarray.city, citydataarray.latitude, citydataarray.longitude)\n",
    "        print(len(tempdf2))\n",
    "        tempdf = tempdf.append(tempdf2)\n",
    "        print(len(tempdf))\n",
    "    return tempdf"
   ]
  },
  {
   "cell_type": "code",
   "execution_count": 111,
   "metadata": {
    "scrolled": false
   },
   "outputs": [
    {
     "name": "stdout",
     "output_type": "stream",
     "text": [
      "Chinese\n",
      "Los Angeles, CA : Chinese\n",
      "300\n",
      "300\n",
      "Japanese\n",
      "Los Angeles, CA : Japanese\n",
      "300\n",
      "600\n",
      "Korean\n",
      "Los Angeles, CA : Korean\n",
      "300\n",
      "900\n",
      "Italian\n",
      "Los Angeles, CA : Italian\n",
      "300\n",
      "1200\n",
      "Indian\n",
      "Los Angeles, CA : Indian\n",
      "300\n",
      "1500\n",
      "Latino\n",
      "Los Angeles, CA : Latino\n",
      "300\n",
      "1800\n"
     ]
    }
   ],
   "source": [
    "dataforheatmap = getVeneuesbyCategories(categoriesdf, city_list_df[city_list_df.city == 'Los Angeles, CA'])"
   ]
  },
  {
   "cell_type": "code",
   "execution_count": 113,
   "metadata": {},
   "outputs": [],
   "source": [
    "#import the map library\n",
    "from folium import Map\n",
    "from folium.plugins import HeatMap"
   ]
  },
  {
   "cell_type": "code",
   "execution_count": 129,
   "metadata": {},
   "outputs": [
    {
     "data": {
      "text/html": [
       "<div>\n",
       "<style scoped>\n",
       "    .dataframe tbody tr th:only-of-type {\n",
       "        vertical-align: middle;\n",
       "    }\n",
       "\n",
       "    .dataframe tbody tr th {\n",
       "        vertical-align: top;\n",
       "    }\n",
       "\n",
       "    .dataframe thead th {\n",
       "        text-align: right;\n",
       "    }\n",
       "</style>\n",
       "<table border=\"1\" class=\"dataframe\">\n",
       "  <thead>\n",
       "    <tr style=\"text-align: right;\">\n",
       "      <th></th>\n",
       "      <th>Neighborhood</th>\n",
       "      <th>Neighborhood Latitude</th>\n",
       "      <th>Neighborhood Longitude</th>\n",
       "      <th>Venue</th>\n",
       "      <th>Venue Latitude</th>\n",
       "      <th>Venue Longitude</th>\n",
       "      <th>Venue Category</th>\n",
       "    </tr>\n",
       "  </thead>\n",
       "  <tbody>\n",
       "    <tr>\n",
       "      <th>0</th>\n",
       "      <td>Los Angeles, CA</td>\n",
       "      <td>34.053691</td>\n",
       "      <td>-118.242767</td>\n",
       "      <td>Today Starts Here</td>\n",
       "      <td>34.065198</td>\n",
       "      <td>-118.238093</td>\n",
       "      <td>Chinese</td>\n",
       "    </tr>\n",
       "    <tr>\n",
       "      <th>1</th>\n",
       "      <td>Los Angeles, CA</td>\n",
       "      <td>34.053691</td>\n",
       "      <td>-118.242767</td>\n",
       "      <td>Dan Modern Chinese</td>\n",
       "      <td>34.042952</td>\n",
       "      <td>-118.445525</td>\n",
       "      <td>Chinese</td>\n",
       "    </tr>\n",
       "    <tr>\n",
       "      <th>2</th>\n",
       "      <td>Los Angeles, CA</td>\n",
       "      <td>34.053691</td>\n",
       "      <td>-118.242767</td>\n",
       "      <td>Lunasia Dimsum House</td>\n",
       "      <td>33.858196</td>\n",
       "      <td>-118.088610</td>\n",
       "      <td>Chinese</td>\n",
       "    </tr>\n",
       "    <tr>\n",
       "      <th>3</th>\n",
       "      <td>Los Angeles, CA</td>\n",
       "      <td>34.053691</td>\n",
       "      <td>-118.242767</td>\n",
       "      <td>Delicious Food Corner</td>\n",
       "      <td>34.079952</td>\n",
       "      <td>-118.081130</td>\n",
       "      <td>Chinese</td>\n",
       "    </tr>\n",
       "    <tr>\n",
       "      <th>4</th>\n",
       "      <td>Los Angeles, CA</td>\n",
       "      <td>34.053691</td>\n",
       "      <td>-118.242767</td>\n",
       "      <td>China one</td>\n",
       "      <td>33.792343</td>\n",
       "      <td>-118.141991</td>\n",
       "      <td>Chinese</td>\n",
       "    </tr>\n",
       "  </tbody>\n",
       "</table>\n",
       "</div>"
      ],
      "text/plain": [
       "      Neighborhood  Neighborhood Latitude  Neighborhood Longitude  \\\n",
       "0  Los Angeles, CA              34.053691             -118.242767   \n",
       "1  Los Angeles, CA              34.053691             -118.242767   \n",
       "2  Los Angeles, CA              34.053691             -118.242767   \n",
       "3  Los Angeles, CA              34.053691             -118.242767   \n",
       "4  Los Angeles, CA              34.053691             -118.242767   \n",
       "\n",
       "                   Venue  Venue Latitude  Venue Longitude Venue Category  \n",
       "0      Today Starts Here       34.065198      -118.238093        Chinese  \n",
       "1     Dan Modern Chinese       34.042952      -118.445525        Chinese  \n",
       "2   Lunasia Dimsum House       33.858196      -118.088610        Chinese  \n",
       "3  Delicious Food Corner       34.079952      -118.081130        Chinese  \n",
       "4              China one       33.792343      -118.141991        Chinese  "
      ]
     },
     "execution_count": 129,
     "metadata": {},
     "output_type": "execute_result"
    }
   ],
   "source": [
    "dataforheatmap[dataforheatmap['Venue Category'] == 'Chinese'].head()"
   ]
  },
  {
   "cell_type": "code",
   "execution_count": 134,
   "metadata": {
    "scrolled": true
   },
   "outputs": [],
   "source": [
    "for_map = Map(location=[34.052235,-118.243683], zoom_start=15)"
   ]
  },
  {
   "cell_type": "code",
   "execution_count": 139,
   "metadata": {},
   "outputs": [],
   "source": [
    "gradient = {.33: 'red', .66: 'brown', 1: 'green'}\n",
    "Chinese_heat = HeatMap(\n",
    "    list(zip(dataforheatmap[dataforheatmap['Venue Category'] == 'Chinese']['Venue Latitude'].values,dataforheatmap[dataforheatmap['Venue Category'] == 'Chinese']['Venue Longitude'].values)),\n",
    "    min_opacity=0.2,\n",
    "    gradient = {.33: 'red', .66: 'brown', 1: 'green'},\n",
    "    radius=8,\n",
    "    blur=15,\n",
    "    max_zoom=1\n",
    ")"
   ]
  },
  {
   "cell_type": "code",
   "execution_count": 140,
   "metadata": {},
   "outputs": [
    {
     "data": {
      "text/html": [
       "<div style=\"width:100%;\"><div style=\"position:relative;width:100%;height:0;padding-bottom:60%;\"><span style=\"color:#565656\">Make this Notebook Trusted to load map: File -> Trust Notebook</span><iframe src=\"about:blank\" style=\"position:absolute;width:100%;height:100%;left:0;top:0;border:none !important;\" data-html=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 onload=\"this.contentDocument.open();this.contentDocument.write(atob(this.getAttribute('data-html')));this.contentDocument.close();\" allowfullscreen webkitallowfullscreen mozallowfullscreen></iframe></div></div>"
      ],
      "text/plain": [
       "<folium.folium.Map at 0x1994d6fa520>"
      ]
     },
     "execution_count": 140,
     "metadata": {},
     "output_type": "execute_result"
    }
   ],
   "source": [
    "for_map.add_child(Chinese_heat)"
   ]
  },
  {
   "cell_type": "markdown",
   "metadata": {},
   "source": [
    "due to the limitation of foursquare api, the test is inconculsive.  For instance, there is way more chinese ethnic in El Monte and West Covina, but it is not showing on the map properly.  The Four square api can only return 300 results."
   ]
  },
  {
   "cell_type": "code",
   "execution_count": null,
   "metadata": {},
   "outputs": [],
   "source": []
  }
 ],
 "metadata": {
  "kernelspec": {
   "display_name": "Python 3",
   "language": "python",
   "name": "python3"
  },
  "language_info": {
   "codemirror_mode": {
    "name": "ipython",
    "version": 3
   },
   "file_extension": ".py",
   "mimetype": "text/x-python",
   "name": "python",
   "nbconvert_exporter": "python",
   "pygments_lexer": "ipython3",
   "version": "3.8.5"
  }
 },
 "nbformat": 4,
 "nbformat_minor": 4
}
