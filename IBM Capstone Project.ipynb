{
 "cells": [
  {
   "cell_type": "markdown",
   "metadata": {},
   "source": [
    "# IBM Capstone Project"
   ]
  },
  {
   "cell_type": "markdown",
   "metadata": {},
   "source": [
    "## Introduction / Business Problem"
   ]
  },
  {
   "cell_type": "markdown",
   "metadata": {},
   "source": [
    "<p>In this project, we are going to found a automatic way to see the cluster of the ethnic group in a area.  In many times, only the local people know which area in the city is for Certain group.  Fox example, there are Chinese Town, Korea Town, or Japanese town in every city.  However, this information is not shown on the map.  If I were the new real estate agent and looking for place for my client, I would want to know which area is best suite for my client.  Most new homeowner would prefer to live nearby their cultural group.  If a newcomer of the city try to settle, it would take trial and error to found out actually the first place that he or she choose may not be the best ideal place that he would like to live in.  This project is to explore a machine learning way to show the hidden information of ethnic gathering group.</p>"
   ]
  },
  {
   "cell_type": "markdown",
   "metadata": {},
   "source": [
    "## Methodology and Data"
   ]
  },
  {
   "cell_type": "markdown",
   "metadata": {},
   "source": [
    "<p>I am going to use Foursquare api to gather the venue type in the area.  Then I will use k-mean to see if cluster exist for each of the following group:</p>\n",
    "\n",
    "- Italian\n",
    "- Chinese\n",
    "- Korean\n",
    "- Japanese\n",
    "- Indian\n",
    "- Filipino\n",
    "- Latino\n",
    "\n",
    "<p>The list may not be inclusive that not all the ethnic group is listed.  Then I will use Folium map and coloring of the map.  I will use Los Angeles to verify my data.  Then I will run Bay area, Kansas City, Atlanta, and Washington DC to explore the ehnic group distribution</p>"
   ]
  },
  {
   "cell_type": "code",
   "execution_count": null,
   "metadata": {},
   "outputs": [],
   "source": []
  }
 ],
 "metadata": {
  "kernelspec": {
   "display_name": "Python 3",
   "language": "python",
   "name": "python3"
  },
  "language_info": {
   "codemirror_mode": {
    "name": "ipython",
    "version": 3
   },
   "file_extension": ".py",
   "mimetype": "text/x-python",
   "name": "python",
   "nbconvert_exporter": "python",
   "pygments_lexer": "ipython3",
   "version": "3.8.3"
  }
 },
 "nbformat": 4,
 "nbformat_minor": 4
}
